{
  "nbformat": 4,
  "nbformat_minor": 0,
  "metadata": {
    "colab": {
      "name": "Keras-wide-deep.ipynb",
      "provenance": [],
      "collapsed_sections": [],
      "authorship_tag": "ABX9TyMKXn+C+eWGEWRXORi5fxga",
      "include_colab_link": true
    },
    "kernelspec": {
      "name": "python3",
      "display_name": "Python 3"
    }
  },
  "cells": [
    {
      "cell_type": "markdown",
      "metadata": {
        "id": "view-in-github",
        "colab_type": "text"
      },
      "source": [
        "<a href=\"https://colab.research.google.com/github/ethan-jiang-1/100-Days-Of-ML-Code/blob/master/Keras_wide_deep.ipynb\" target=\"_parent\"><img src=\"https://colab.research.google.com/assets/colab-badge.svg\" alt=\"Open In Colab\"/></a>"
      ]
    },
    {
      "cell_type": "code",
      "metadata": {
        "id": "jp1YJz30440e"
      },
      "source": [
        "!pip install -q -U tensorflow==1.7.0\n"
      ],
      "execution_count": null,
      "outputs": []
    },
    {
      "cell_type": "markdown",
      "metadata": {
        "id": "27CjOMYAsxM-"
      },
      "source": [
        "ORG Training from here: https://www.youtube.com/watch?v=XNKeayZW4dY"
      ]
    },
    {
      "cell_type": "code",
      "metadata": {
        "id": "zmbKuTWs53zJ",
        "outputId": "478d1b8f-0beb-46c0-a138-9e9647b42489",
        "colab": {
          "base_uri": "https://localhost:8080/"
        }
      },
      "source": [
        "import itertools\n",
        "import os\n",
        "import math\n",
        "import numpy as np\n",
        "import pandas as pd\n",
        "import tensorflow as tf\n",
        "\n",
        "from sklearn.preprocessing import LabelEncoder\n",
        "from tensorflow import keras\n",
        "layers = keras.layers\n",
        "\n",
        "print(\"Tensor flow versoin\", tf.__version__)\n",
        "\n",
        "URL = \"https://storage.googleapis.com/sara-cloud-ml/wine_data.csv\"\n",
        "path = tf.keras.utils.get_file(URL.split(\"/\")[-1], URL)\n"
      ],
      "execution_count": 2,
      "outputs": [
        {
          "output_type": "stream",
          "text": [
            "Tensor flow versoin 1.7.0\n"
          ],
          "name": "stdout"
        }
      ]
    },
    {
      "cell_type": "code",
      "metadata": {
        "id": "g_jn9qd068pR"
      },
      "source": [
        "data = pd.read_csv(path)\n",
        "data = data.sample(frac=1)\n",
        "data.head()\n",
        "\n",
        "data = data[pd.notnull(data[\"country\"])]\n",
        "data = data[pd.notnull(data[\"price\"])]\n",
        "data = data.drop(data.columns[0], axis=1)\n",
        "data = data.drop(2000, axis=0)\n",
        "# data.head()\n",
        "\n",
        "variety_thredhold = 500\n",
        "value_counts = data[\"variety\"].value_counts()\n",
        "to_remove = value_counts[value_counts <= variety_thredhold].index\n",
        "data.replace(to_remove, np.nan, inplace=True)\n",
        "data = data[pd.notnull(data[\"variety\"])]\n",
        "# data.head()"
      ],
      "execution_count": 6,
      "outputs": []
    },
    {
      "cell_type": "code",
      "metadata": {
        "id": "UUYqdEou8fz_",
        "outputId": "ecd345ee-65bf-45f0-ccf3-fc9198214923",
        "colab": {
          "base_uri": "https://localhost:8080/"
        }
      },
      "source": [
        "train_size = int(len(data)* 0.8)\n",
        "print(\"train_size: \", train_size, \"test_size\", int(train_size/4))\n",
        "\n",
        "desp_train = data[\"description\"][:train_size]\n",
        "variety_train = data[\"variety\"][:train_size]\n",
        "labels_train = data[\"price\"][:train_size]\n",
        "\n",
        "desp_test = data[\"description\"][train_size:]\n",
        "variety_test = data[\"variety\"][train_size:]\n",
        "labels_test = data[\"price\"][train_size:]\n",
        "\n"
      ],
      "execution_count": 7,
      "outputs": [
        {
          "output_type": "stream",
          "text": [
            "train_size:  95645 test_size 23911\n"
          ],
          "name": "stdout"
        }
      ]
    },
    {
      "cell_type": "code",
      "metadata": {
        "id": "Nl_YxX6m9YTa"
      },
      "source": [
        "vocab_size = 12000\n",
        "tokenize = keras.preprocessing.text.Tokenizer(num_words=vocab_size, char_level=False)\n",
        "tokenize.fit_on_texts(desp_train)\n",
        "\n",
        "desp_bow_train = tokenize.texts_to_matrix(desp_train)\n",
        "desp_bow_test = tokenize.texts_to_matrix(desp_test)\n"
      ],
      "execution_count": 8,
      "outputs": []
    },
    {
      "cell_type": "code",
      "metadata": {
        "id": "8DUVF1xNi0iz"
      },
      "source": [
        "encoder = LabelEncoder()\n",
        "encoder.fit(variety_train)\n",
        "variety_train = encoder.transform(variety_train)\n",
        "variety_test = encoder.transform(variety_test)\n",
        "num_classes = np.max(variety_train) + 1\n",
        "\n",
        "variety_train = keras.utils.to_categorical(variety_train, num_classes)\n",
        "variety_test = keras.utils.to_categorical(variety_test, num_classes)\n"
      ],
      "execution_count": 9,
      "outputs": []
    },
    {
      "cell_type": "code",
      "metadata": {
        "id": "g0cpiN_ljYuN",
        "outputId": "ac76bf45-d7b5-469e-d336-1d091741170b",
        "colab": {
          "base_uri": "https://localhost:8080/"
        }
      },
      "source": [
        "bow_inputs = layers.Input(shape=(vocab_size,))\n",
        "variety_inputs = layers.Input(shape=(num_classes,))\n",
        "merged_layer = layers.concatenate([bow_inputs, variety_inputs])\n",
        "merged_layer = layers.Dense(256, activation=\"relu\")(merged_layer)\n",
        "predictions = layers.Dense(1)(merged_layer)\n",
        "wide_model = keras.Model(inputs=[bow_inputs, variety_inputs], outputs=predictions)\n",
        "\n",
        "wide_model.compile(loss=\"mse\", optimizer=\"adam\", metrics=[\"accuracy\"])\n",
        "print(wide_model.summary())"
      ],
      "execution_count": 12,
      "outputs": [
        {
          "output_type": "stream",
          "text": [
            "__________________________________________________________________________________________________\n",
            "Layer (type)                    Output Shape         Param #     Connected to                     \n",
            "==================================================================================================\n",
            "input_5 (InputLayer)            (None, 12000)        0                                            \n",
            "__________________________________________________________________________________________________\n",
            "input_6 (InputLayer)            (None, 40)           0                                            \n",
            "__________________________________________________________________________________________________\n",
            "concatenate_3 (Concatenate)     (None, 12040)        0           input_5[0][0]                    \n",
            "                                                                 input_6[0][0]                    \n",
            "__________________________________________________________________________________________________\n",
            "dense_5 (Dense)                 (None, 256)          3082496     concatenate_3[0][0]              \n",
            "__________________________________________________________________________________________________\n",
            "dense_6 (Dense)                 (None, 1)            257         dense_5[0][0]                    \n",
            "==================================================================================================\n",
            "Total params: 3,082,753\n",
            "Trainable params: 3,082,753\n",
            "Non-trainable params: 0\n",
            "__________________________________________________________________________________________________\n",
            "None\n"
          ],
          "name": "stdout"
        }
      ]
    },
    {
      "cell_type": "code",
      "metadata": {
        "id": "tZskfgsTlEQI"
      },
      "source": [
        "train_embed = tokenize.texts_to_sequences(desp_train)\n",
        "test_embed = tokenize.texts_to_sequences(desp_test)\n",
        "\n",
        "max_seq_length = 170\n",
        "train_embed = keras.preprocessing.sequence.pad_sequences(train_embed, maxlen=max_seq_length, padding=\"post\")\n",
        "test_embed = keras.preprocessing.sequence.pad_sequences(test_embed, maxlen=max_seq_length, padding=\"post\")"
      ],
      "execution_count": 13,
      "outputs": []
    },
    {
      "cell_type": "code",
      "metadata": {
        "id": "TXVODnJLll-A",
        "outputId": "3b7d3523-f93e-4518-b203-f1f5460be264",
        "colab": {
          "base_uri": "https://localhost:8080/"
        }
      },
      "source": [
        "deep_inputs = layers.Input(shape=(max_seq_length,))\n",
        "embedding = layers.Embedding(vocab_size, 8, input_length=max_seq_length)(deep_inputs)\n",
        "embedding = layers.Flatten()(embedding)\n",
        "embed_out = layers.Dense(1)(embedding)\n",
        "deep_model = keras.Model(inputs=deep_inputs, outputs=embed_out)\n",
        "print(deep_model.summary()) \n",
        "\n",
        "deep_model.compile(loss=\"mse\", optimizer=\"adam\", metrics=['accuracy'])\n"
      ],
      "execution_count": 17,
      "outputs": [
        {
          "output_type": "stream",
          "text": [
            "_________________________________________________________________\n",
            "Layer (type)                 Output Shape              Param #   \n",
            "=================================================================\n",
            "input_9 (InputLayer)         (None, 170)               0         \n",
            "_________________________________________________________________\n",
            "embedding_3 (Embedding)      (None, 170, 8)            96000     \n",
            "_________________________________________________________________\n",
            "flatten_3 (Flatten)          (None, 1360)              0         \n",
            "_________________________________________________________________\n",
            "dense_9 (Dense)              (None, 1)                 1361      \n",
            "=================================================================\n",
            "Total params: 97,361\n",
            "Trainable params: 97,361\n",
            "Non-trainable params: 0\n",
            "_________________________________________________________________\n",
            "None\n"
          ],
          "name": "stdout"
        }
      ]
    },
    {
      "cell_type": "code",
      "metadata": {
        "id": "h-oqS9HWmudD",
        "outputId": "d42bf2c8-1e83-459e-9a97-5817dfbd2c1b",
        "colab": {
          "base_uri": "https://localhost:8080/"
        }
      },
      "source": [
        "merged_out = layers.concatenate([wide_model.output, deep_model.output])\n",
        "merged_out = layers.Dense(1)(merged_out)\n",
        "combined_model = keras.Model(wide_model.input + [deep_model.input], merged_out)\n",
        "print(combined_model.summary())\n",
        "\n",
        "combined_model.compile(loss=\"mse\",\n",
        "                       optimizer=\"adam\",\n",
        "                       metrics=[\"accuracy\"])\n"
      ],
      "execution_count": 21,
      "outputs": [
        {
          "output_type": "stream",
          "text": [
            "__________________________________________________________________________________________________\n",
            "Layer (type)                    Output Shape         Param #     Connected to                     \n",
            "==================================================================================================\n",
            "input_5 (InputLayer)            (None, 12000)        0                                            \n",
            "__________________________________________________________________________________________________\n",
            "input_6 (InputLayer)            (None, 40)           0                                            \n",
            "__________________________________________________________________________________________________\n",
            "input_9 (InputLayer)            (None, 170)          0                                            \n",
            "__________________________________________________________________________________________________\n",
            "concatenate_3 (Concatenate)     (None, 12040)        0           input_5[0][0]                    \n",
            "                                                                 input_6[0][0]                    \n",
            "__________________________________________________________________________________________________\n",
            "embedding_3 (Embedding)         (None, 170, 8)       96000       input_9[0][0]                    \n",
            "__________________________________________________________________________________________________\n",
            "dense_5 (Dense)                 (None, 256)          3082496     concatenate_3[0][0]              \n",
            "__________________________________________________________________________________________________\n",
            "flatten_3 (Flatten)             (None, 1360)         0           embedding_3[0][0]                \n",
            "__________________________________________________________________________________________________\n",
            "dense_6 (Dense)                 (None, 1)            257         dense_5[0][0]                    \n",
            "__________________________________________________________________________________________________\n",
            "dense_9 (Dense)                 (None, 1)            1361        flatten_3[0][0]                  \n",
            "__________________________________________________________________________________________________\n",
            "concatenate_6 (Concatenate)     (None, 2)            0           dense_6[0][0]                    \n",
            "                                                                 dense_9[0][0]                    \n",
            "__________________________________________________________________________________________________\n",
            "dense_10 (Dense)                (None, 1)            3           concatenate_6[0][0]              \n",
            "==================================================================================================\n",
            "Total params: 3,180,117\n",
            "Trainable params: 3,180,117\n",
            "Non-trainable params: 0\n",
            "__________________________________________________________________________________________________\n",
            "None\n"
          ],
          "name": "stdout"
        }
      ]
    },
    {
      "cell_type": "code",
      "metadata": {
        "id": "9k1RFzlGnuPq",
        "outputId": "89861694-df04-428a-dddd-f0f79ca60335",
        "colab": {
          "base_uri": "https://localhost:8080/"
        }
      },
      "source": [
        "combined_model.fit([desp_bow_train, variety_train] + [train_embed], labels_train, epochs=10, batch_size=128)\n",
        "\n",
        "combined_model.evaluate([desp_bow_test, variety_test] + [test_embed], labels_test, batch_size=128)"
      ],
      "execution_count": 23,
      "outputs": [
        {
          "output_type": "stream",
          "text": [
            "Epoch 1/10\n",
            "95645/95645 [==============================] - 95s 994us/step - loss: 1149.1292 - acc: 0.0265\n",
            "Epoch 2/10\n",
            "95645/95645 [==============================] - 90s 941us/step - loss: 895.3321 - acc: 0.0362\n",
            "Epoch 3/10\n",
            "95645/95645 [==============================] - 88s 922us/step - loss: 764.7661 - acc: 0.0410\n",
            "Epoch 4/10\n",
            "95645/95645 [==============================] - 88s 919us/step - loss: 639.3805 - acc: 0.0443\n",
            "Epoch 5/10\n",
            "95645/95645 [==============================] - 88s 919us/step - loss: 520.2460 - acc: 0.0493\n",
            "Epoch 6/10\n",
            "95645/95645 [==============================] - 88s 920us/step - loss: 412.1122 - acc: 0.0561\n",
            "Epoch 7/10\n",
            "95645/95645 [==============================] - 88s 921us/step - loss: 320.1213 - acc: 0.0634\n",
            "Epoch 8/10\n",
            "95645/95645 [==============================] - 88s 921us/step - loss: 247.0384 - acc: 0.0736\n",
            "Epoch 9/10\n",
            "95645/95645 [==============================] - 88s 919us/step - loss: 190.4755 - acc: 0.0863\n",
            "Epoch 10/10\n",
            "95645/95645 [==============================] - 88s 920us/step - loss: 149.2708 - acc: 0.0950\n",
            "23912/23912 [==============================] - 7s 303us/step\n"
          ],
          "name": "stdout"
        },
        {
          "output_type": "execute_result",
          "data": {
            "text/plain": [
              "[786.9648861315546, 0.06687019070546218]"
            ]
          },
          "metadata": {
            "tags": []
          },
          "execution_count": 23
        }
      ]
    },
    {
      "cell_type": "markdown",
      "metadata": {
        "id": "hOCRdmyXoM6m"
      },
      "source": [
        ""
      ]
    },
    {
      "cell_type": "code",
      "metadata": {
        "id": "-xGxmYcSo5NJ",
        "outputId": "c3468a62-563c-4da4-8136-3b376af29167",
        "colab": {
          "base_uri": "https://localhost:8080/"
        }
      },
      "source": [
        "predictions = combined_model.predict([desp_bow_test, variety_test] + [test_embed])\n",
        "\n",
        "num_predictions = 40\n",
        "diff = 0\n",
        "\n",
        "for i in range(num_predictions):\n",
        "  val = predictions[i]\n",
        "  print(desp_test.iloc[i])\n",
        "  print(\"predicted\", val[0], 'actual', labels_test.iloc[i])\n",
        "  diff += abs(val[0] - labels_test.iloc[i])\n",
        "\n",
        "print(\"average prediction diffreence\", diff/num_predictions)\n"
      ],
      "execution_count": 26,
      "outputs": [
        {
          "output_type": "stream",
          "text": [
            "This has the richness of barrel fermented Sémillon (“French stainless steel”) without actually having any. Residual sugar just over 1%; gives it roundness and a hint of honey.\n",
            "predicted 11.766367 actual 19.0\n",
            "A vibrantly aromatic, dazzling wine with abundant notes of lychee and rose petal. It's on the lighter side of medium bodied and drinks dry with a lot of hang time on the pronounced, floral finish.\n",
            "predicted 8.995081 actual 22.0\n",
            "From winemaker David Kraus, this is simple but enjoyable. Spice, dark berry and blueberry on the nose lead into toasted oak and berry on the palate. A fun sip for fans of offbeat regions, it will pair well with heartier fare like beef and lamb.\n",
            "predicted 15.129522 actual 15.0\n",
            "A polished, softly delicious Merlot, at a good price for the quality. It's dry and richly tannic, with complex flavors of black cherries, red currants, red licorice, Indian spices and sandalwood. Ready now, but only 200 cases were produced.\n",
            "predicted 28.669613 actual 24.0\n",
            "Almost cherry red, this estate-grown Grenache rosé is quite dry, yet has lovely fruit character that brings with it an impression of fruit sweetness. Fresh and tangy, with a mix of cranberry and cherry flavors, it's a perfectly balanced wine that shows well when chilled down a bit.\n",
            "predicted 13.846462 actual 14.0\n",
            "An easy-drinking red wine. It's silky, fruity and dry. You could substitute it as an interesting alternative to Pinot Noir. Shows cherry and tobacco flavors, with a brisk scour of acidity.\n",
            "predicted 32.56704 actual 38.0\n",
            "Smooth and sophisticated with rich blackberry and plum aromas backed by oak-driven tones of spice and leather, this is a very rich expression of Barbera (that sees eight months in oak barrels). The overall effect is excellent and the mouthfeel culminates with bright tones of prune and crushed black pepper.\n",
            "predicted 30.946482 actual 20.0\n",
            "Still young, closed and tight, this exhibits intense, crisp minerality. At this stage, the wine is all texture, with its green and white fruits suppressed. There is a vivid, vibrant character, which promises aging over the next 4–5 years. Imported by Cellar Door Selections.\n",
            "predicted 40.886703 actual 40.0\n",
            "This is a big, vital, dramatic Pinot Noir that shows its fine terroir with enormously concentrated raspberry and cherry fruit, balanced by fine acidity, subtle tannins and a bite of cherry-pit bitterness. It's a great wine that will benefit from 6–8 years in the cellar.\n",
            "predicted 55.64419 actual 70.0\n",
            "A rich, extracted Syrah that treads the line between simple lusciousness and complex authority. It's softly tannic and low in acidity, with pie filling flavors of cherries, raspberries and mocha. Earns extra points for sheer richness. Drink now.\n",
            "predicted 38.556328 actual 38.0\n",
            "Seems a touch overripe, with fruit that leans toward the pruny side of plum, then adds dark chocolate flavors. It's broad on the attack, then   narrows considerably on the finish and is pulled together by crisp acids that accentuate the wine's dusty tannins.\n",
            "predicted 16.074047 actual 17.0\n",
            "Smells like a burning hay stack, and otherwise it's neutral. The palate has heft but little else, and the flavors of baked apple run resiny and sweet. Finishes mealy and dull; just another in a long line of uninspiring, mediocre Argentine Chards.\n",
            "predicted 12.388728 actual 10.0\n",
            "Traditional Chianti, with no small oak aging and no Cabernet or Merlot. Leathery, with dried cherry aromas and a hint of tobacco on the nose, then shows bright, focused fruit flavors on the palate. Finishes with bass notes of dark chocolate and earth.\n",
            "predicted 15.907839 actual 18.0\n",
            "Soft and rich, this warm, rounded wine has concentrated fruitiness along with a more tense mineral structure. Its pink grapefruit, ripe melon and zesty lemon flavors combine to give a wine that is only just setting out. Drink from 2018.\n",
            "predicted 24.56915 actual 25.0\n",
            "This dry, spicy wine is made for immediate enjoyment. It offers rich flavors of cherries, cola, vanilla-almond biscotti and cinnamon in a light-bodied texture.\n",
            "predicted 32.268177 actual 24.0\n",
            "Pizzolato brings us an easygoing Pinot Grigio with a thin, watery mouthfeel and measured aromas of citrus, white mineral and passion fruit. This informal style of wine works well at outdoor lunches and barbecues.\n",
            "predicted 11.914973 actual 13.0\n",
            "Good and ripe, offering a mouthburst of cherries, blackberries and red currants, leading to a spicy finish. But the texture is a little rugged, and there's some sharp imbalance in the tannins.\n",
            "predicted 32.54687 actual 38.0\n",
            "This brut has a lovely fragrance of tropical fruit, peach and a whiff of vanilla. The elegantly sparkling palate shows apple, pear and citrus flavors, plus sage and other Mediterranean herbs. Pair this with light first courses and fresh seafood.\n",
            "predicted 16.486732 actual 31.0\n",
            "Shows some young-vine raciness but also the sappy red cherry that is Rio Negro Malbec. Balanced and nicely oaked, with a comfortable finish that carries both chocolate and vanilla. From the maker of Fabre Montmayou.\n",
            "predicted 11.529592 actual 13.0\n",
            "A rich wine that strikes a good balance among tropical fruits, acids and a dry botrytis core. It shows notes of spice and honey, with apricot juice acidity. This is ready to drink.\n",
            "predicted 33.225113 actual 29.0\n",
            "This is bold for a boxed wine, showing ripe, lightly spicy flavors supported by a firm and moderately tannic texture. It's nearly dry, too.\n",
            "predicted 15.976189 actual 18.0\n",
            "Tastes almost like an Aussie Shiraz, a big, jammy but drily acidic wine that explodes in blackberry, cherry and pepper flavors. Robust and fun, a great wine to serve with barbecue or rich meat stews.\n",
            "predicted 12.913614 actual 15.0\n",
            "Oodles of rich, ripe fruit in this soft, gently structured wine. The blackberries, cherries, plums, chocolate and spiced coffee finish with evident sweetness.\n",
            "predicted 32.219475 actual 28.0\n",
            "There's some light toast and vanilla flavors layered over modest Bosc-pear fruit, but a lack of intensity holds this wine back despite a generous mouthfeel and ample structure.\n",
            "predicted 24.553492 actual 15.0\n",
            "Another flavorful Chard from a fine region and vintage. Aromas of tropical fruits, spices, oak, smoke and lees. Rich and fine in the mouth. The structure is particularly elegant, with crisp acidity, smooth tannins and alcohol all well integrated with the fruit. Gets extra points for harmony and balance.\n",
            "predicted 24.206427 actual 15.0\n",
            "Leafy and loaded with sweet tobacco and earth aromas. Concentrated and lively in the mouth, with cherry, brown sugar and cocoa flavors leading to a layered, sweet-tasting, long finish. Offers a good mix of character, poise and power.\n",
            "predicted 20.1687 actual 16.0\n",
            "This is from Dan Morgan Lee's own vineyard. It's in the coolest northwest part of the appellation, near its boundary, and is more acidic and elegant than his purchased Pinots further south. The 2004 vintage was blazingly hot, and the grapes loved it. Big in cherry, cola, leather and spice flavors, it's a wine to savor. Best now through 2008.\n",
            "predicted 47.93863 actual 55.0\n",
            "The quality of fruit in this expression of Syrah is dark, plush, rich and opulent. The bouquet offers notes of black cherry, prune, smoked bacon, tobacco, white pepper and clove. The tannins are luscious and firm, and there's plenty of ripe fruit to keep the wine firmly fixed to the palate for many minutes.\n",
            "predicted 70.801735 actual 65.0\n",
            "Of all this year's seven Pioneer Block Sauvignon Blanc offerings, this one most seamlessly blends passion fruit, green tomatoes and leafy notes into a medium-bodied yet amply concentrated wine with a long, citrusy finish.\n",
            "predicted 26.54192 actual 24.0\n",
            "Clean and fresh, this value-priced southern Oregon Chardonnay offers balanced, elegant flavors of flower and fruit. Notes of apple and pear are front and center, with hints of white peach and cinnamon.\n",
            "predicted 12.57078 actual 12.0\n",
            "With its delicate aromas of flowers, fresh greens and a hint of mint, you might expect this to be a light, delicate wine. But it's broad and rather sweet, marked by flavors of ripe apples and vanilla. It comes across a bit soft on the finish, but luscious.\n",
            "predicted 40.66749 actual 46.0\n",
            "Though the finish falls off a bit, notes of juicy honeydew, pear and petrol open up for a sublime mouthful of pineapple and lime pulp. Medium-full-bodied, this is a well-balanced and structured offering promising pleasure and satisfaction.\n",
            "predicted 14.51642 actual 13.0\n",
            "Le Méal is said to be the warmest terroir on the Hermitage hill, and thus it is no surprise that this bottling fared the best in the challenging 2004 vintage. Flamboyant, creamy waves of raspberry fruit flood the palate, bringing hints of meat, smoke and pepper along for the ride and developing lovely soft tannins on the caressing finish. Approachable now, but should age well through 2020.\n",
            "predicted 185.74318 actual 202.0\n",
            "This is a different style than past vintages of Freedom Hill, with less tannin and alcohol. Cranberry fruit flavors are augmented with some pretty whiffs of incense, but it feels a bit simple in the mouth, and turns slightly chalky through the finish.\n",
            "predicted 43.63173 actual 50.0\n",
            "Too soft and too sweet, with sugared cherry, raspberry, blackberry and chocolate flavors. Okay and clean, but with this inherent sweetness, the wine could use more balancing acids and tannins.\n",
            "predicted 23.287563 actual 12.0\n",
            "Il Tesoro is a pure expression of Merlot. The wine will immediately grab your attention thanks to generous and refined notes of sweet cherry, blueberry, vanilla bean, licorice, Indian spice and chocolate fudge. It imparts deliciously soft, velvety tannins in the mouth.\n",
            "predicted 46.384308 actual 43.0\n",
            "This is a loaded wine, ripe with aromas of cherry cola, chopped herbs, white chocolate, blackberry and cassis. The aromatic presentation is never overpowering and the wine is in fact delicate and elegant with finely tuned finesse. Pair this Barolo with truffle-stuffed veal roast.\n",
            "predicted 66.881645 actual 60.0\n",
            "Bründlmayer makes a particularly felicitous brut, crisp, yeasty, with very pure green and white fruits. It has an intense minerality, tight, structured and finishing with great waves of toast. The wine spends three years on its lees, which shows in its density of flavor.\n",
            "predicted 55.175346 actual 46.0\n",
            "Rich, impressively ripe fruit, the fruit dense and black, with juicy black plum flavors followed by dusty tannins. The wine is chunky, powerful for the year, the dryness smoothed by new wood.\n",
            "predicted 42.860863 actual 75.0\n",
            "A fine effort in this cool vintage, this Merlot-dominated Bordeaux-style blend is aromatically arresting, with complex flower and herb scents suggesting appealing delicacy. It delivers that in a focused, wine with pretty berry and chocolate flavors.\n",
            "predicted 39.233654 actual 55.0\n",
            "average prediction diffreence 6.339119601249695\n"
          ],
          "name": "stdout"
        }
      ]
    }
  ]
}